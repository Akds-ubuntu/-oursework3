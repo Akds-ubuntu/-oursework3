{
  "cells": [
    {
      "cell_type": "markdown",
      "metadata": {
        "id": "XgcAcPUb6XYG"
      },
      "source": [
        "#Подготовка: установка требуемых Python-библиотек и зависимостей"
      ]
    },
    {
      "cell_type": "code",
      "execution_count": 2,
      "metadata": {
        "colab": {
          "base_uri": "https://localhost:8080/"
        },
        "id": "D3NI95T0sElb",
        "outputId": "efe7498d-c326-4ef3-9d27-99644e4b82c5"
      },
      "outputs": [
        {
          "name": "stdout",
          "output_type": "stream",
          "text": [
            "Collecting groq\n",
            "  Downloading groq-0.26.0-py3-none-any.whl.metadata (15 kB)\n",
            "Requirement already satisfied: anyio<5,>=3.5.0 in /usr/local/lib/python3.11/dist-packages (from groq) (4.9.0)\n",
            "Requirement already satisfied: distro<2,>=1.7.0 in /usr/local/lib/python3.11/dist-packages (from groq) (1.9.0)\n",
            "Requirement already satisfied: httpx<1,>=0.23.0 in /usr/local/lib/python3.11/dist-packages (from groq) (0.28.1)\n",
            "Requirement already satisfied: pydantic<3,>=1.9.0 in /usr/local/lib/python3.11/dist-packages (from groq) (2.11.5)\n",
            "Requirement already satisfied: sniffio in /usr/local/lib/python3.11/dist-packages (from groq) (1.3.1)\n",
            "Requirement already satisfied: typing-extensions<5,>=4.10 in /usr/local/lib/python3.11/dist-packages (from groq) (4.13.2)\n",
            "Requirement already satisfied: idna>=2.8 in /usr/local/lib/python3.11/dist-packages (from anyio<5,>=3.5.0->groq) (3.10)\n",
            "Requirement already satisfied: certifi in /usr/local/lib/python3.11/dist-packages (from httpx<1,>=0.23.0->groq) (2025.4.26)\n",
            "Requirement already satisfied: httpcore==1.* in /usr/local/lib/python3.11/dist-packages (from httpx<1,>=0.23.0->groq) (1.0.9)\n",
            "Requirement already satisfied: h11>=0.16 in /usr/local/lib/python3.11/dist-packages (from httpcore==1.*->httpx<1,>=0.23.0->groq) (0.16.0)\n",
            "Requirement already satisfied: annotated-types>=0.6.0 in /usr/local/lib/python3.11/dist-packages (from pydantic<3,>=1.9.0->groq) (0.7.0)\n",
            "Requirement already satisfied: pydantic-core==2.33.2 in /usr/local/lib/python3.11/dist-packages (from pydantic<3,>=1.9.0->groq) (2.33.2)\n",
            "Requirement already satisfied: typing-inspection>=0.4.0 in /usr/local/lib/python3.11/dist-packages (from pydantic<3,>=1.9.0->groq) (0.4.1)\n",
            "Downloading groq-0.26.0-py3-none-any.whl (129 kB)\n",
            "\u001b[2K   \u001b[90m━━━━━━━━━━━━━━━━━━━━━━━━━━━━━━━━━━━━━━━━\u001b[0m \u001b[32m129.6/129.6 kB\u001b[0m \u001b[31m3.7 MB/s\u001b[0m eta \u001b[36m0:00:00\u001b[0m\n",
            "\u001b[?25hInstalling collected packages: groq\n",
            "Successfully installed groq-0.26.0\n"
          ]
        }
      ],
      "source": [
        "!pip install groq\n",
        "!pip install -U langchain-community\n",
        "!pip install wikipedia\n",
        "!pip install faiss-cpu\n",
        "!pip install tqdm\n",
        "!pip install keybert\n"
      ]
    },
    {
      "cell_type": "code",
      "execution_count": 8,
      "metadata": {
        "id": "aAfHv2mBqTF8"
      },
      "outputs": [],
      "source": [
        "import spacy\n",
        "from langchain_core.language_models import BaseChatModel\n",
        "from langchain_core.messages import AIMessage, BaseMessage, HumanMessage, SystemMessage\n",
        "from langchain_core.outputs import ChatGeneration, ChatResult\n",
        "from groq import Groq\n",
        "from typing import List, Dict, Any, Optional, Iterator\n",
        "import os\n",
        "from langchain.chains import LLMChain\n",
        "from langchain_core.prompts import ChatPromptTemplate\n",
        "from langchain.document_loaders import WikipediaLoader\n",
        "from langchain.vectorstores.faiss import FAISS\n",
        "from langchain_core.documents import Document\n",
        "from langchain.embeddings import HuggingFaceEmbeddings\n",
        "from langchain.chains import create_retrieval_chain\n",
        "from langchain.chains.combine_documents import create_stuff_documents_chain\n",
        "from langchain.text_splitter import RecursiveCharacterTextSplitter\n",
        "from transformers import pipeline\n",
        "from tqdm import tqdm\n",
        "import json\n",
        "import re\n"
      ]
    },
    {
      "cell_type": "markdown",
      "metadata": {
        "id": "wn5-bdUO61Wo"
      },
      "source": [
        "#Описание класса GroqLlama3Chat\n",
        "\n",
        "Данный класс реализует обёртку для взаимодействия с языковой моделью Llama-4-Maverick через внешний API Groq. Он наследуется от базового класса BaseChatModel и обеспечивает отправку сообщений и получение ответов от модели.\n",
        "\n",
        "Основные функции класса:\n",
        "\n",
        "Инициализация параметров: Включает API-ключ, выбор модели (meta-llama/llama-4-maverick-17b-128e-instruct), настройки температуры генерации и максимального количества токенов в ответе.\n",
        "\n",
        "Метод _convert_messages: Преобразует входные сообщения из внутреннего формата в формат, понятный API Groq, определяя роли пользователя, системы и ассистента.\n",
        "\n",
        "Метод _generate: Отправляет запрос к API Groq с подготовленными сообщениями, получает ответ и возвращает его в виде объекта ChatResult, содержащего сгенерированное сообщение.\n",
        "\n",
        "Свойство _llm_type: Возвращает строковый идентификатор модели.\n",
        "\n",
        "Данный класс позволяет интегрировать Llama-4-Maverick в систему с унифицированным интерфейсом общения с языковыми моделями.\n",
        "\n",
        "Вставте в поле api_key ключ который можно получить на сайте https://console.groq.com/keys"
      ]
    },
    {
      "cell_type": "code",
      "execution_count": 9,
      "metadata": {
        "id": "j8lEtoCmr5Oj"
      },
      "outputs": [],
      "source": [
        "class GroqLlama3Chat(BaseChatModel):\n",
        "    api_key: str = \"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\"\n",
        "    model: str = \"meta-llama/llama-4-maverick-17b-128e-instruct\"\n",
        "    temperature: float = 0.7\n",
        "    max_tokens: int = 1024\n",
        "\n",
        "    def _convert_messages(self, messages: List[BaseMessage]) -> List[Dict]:\n",
        "        converted = []\n",
        "        for msg in messages:\n",
        "            if isinstance(msg, HumanMessage):\n",
        "                role = \"user\"\n",
        "            elif isinstance(msg, SystemMessage):\n",
        "                role = \"system\"\n",
        "            else:\n",
        "                role = \"assistant\"\n",
        "            converted.append({\"role\": role, \"content\": msg.content})\n",
        "        return converted\n",
        "\n",
        "    def _generate(\n",
        "        self,\n",
        "        messages: List[BaseMessage],\n",
        "        stop: Optional[List[str]] = None,\n",
        "        run_manager = None,\n",
        "        **kwargs\n",
        "    ) -> ChatResult:\n",
        "        client = Groq(api_key=self.api_key)\n",
        "\n",
        "        response = client.chat.completions.create(\n",
        "            messages=self._convert_messages(messages),\n",
        "            model=self.model,\n",
        "            temperature=self.temperature,\n",
        "            max_tokens=self.max_tokens,\n",
        "            stream=False,\n",
        "            stop=stop\n",
        "        )\n",
        "\n",
        "        message = AIMessage(content=response.choices[0].message.content)\n",
        "        generation = ChatGeneration(message=message)\n",
        "        return ChatResult(generations=[generation])\n",
        "\n",
        "    @property\n",
        "    def _llm_type(self) -> str:\n",
        "        return \"groq-llama3\""
      ]
    },
    {
      "cell_type": "code",
      "execution_count": 10,
      "metadata": {
        "id": "V6ym-ZKnsMI7"
      },
      "outputs": [],
      "source": [
        "llm_GroqLlama = GroqLlama3Chat()"
      ]
    },
    {
      "cell_type": "markdown",
      "metadata": {
        "id": "BskgSfM0sae5"
      },
      "source": [
        "#Данный модуль содержит набор шаблонов подсказок (prompt templates), используемых для различных этапов автоматической проверки фактов и обработки текстов, сгенерированных большими языковыми моделями.\n",
        "\n",
        "Основные функции промтов:\n",
        "\n",
        "prompt_for_fact_extractor — шаблон для разбиения сложного предложения на атомарные, независимые фактические утверждения с сохранением контекста. Позволяет извлечь до 5 проверяемых фактов из одного предложения, избегая тривиальных и общих истин.\n",
        "\n",
        "prompt3 — шаблон для верификации исходного утверждения на основе контекста из Википедии. В зависимости от совпадения с контекстом возвращает либо подтверждённое утверждение, либо исправленное, либо сообщение об отсутствии подтверждающих данных.\n",
        "\n",
        "prompt4 — шаблон для исправления исходного утверждения, строго следуя контексту Википедии. Корректирует только необходимые части, сохраняя структуру и имена без добавления новых фактов.\n",
        "\n",
        "extract_context_prompt — шаблон для извлечения ключевой информации из биографического текста в структурированном JSON-формате. Выделяет имя, профессию, дату и место рождения и другие уникальные характеристики.\n",
        "\n",
        "conclusions — шаблон для редактирования текста с учётом списка проверенных фактических подсказок. Исправляет неточности, заполняет пробелы, не добавляя неподтверждённую информацию.\n",
        "\n",
        "promt_to_indicate_the_fact — шаблон для классификации факта как подтверждённого (\"S\") или неподтверждённого (\"NS\") по заданному контексту. Выдаёт строго однозначный ответ без объяснений, основываясь на точном соответствии и отсутствии противоречий.\n",
        "\n"
      ]
    },
    {
      "cell_type": "code",
      "execution_count": 11,
      "metadata": {
        "id": "gejZN973sZ7a"
      },
      "outputs": [],
      "source": [
        "\n",
        "prompt_for_fact_extractor = ChatPromptTemplate.from_template(\n",
        "\"\"\"\n",
        "You are an assistant for extracting meaningful atomic facts from a sentence. Your task is to split the sentence into non-trivial, independently verifiable factual statements that retain enough context.\n",
        "\n",
        "You will be given a short context text containing key information such as full name, profession, nationality, place and date of birth, and other relevant traits.\n",
        "\n",
        "Instructions:\n",
        "1. Break down the input into clear, self-contained factual statements max 5.\n",
        "2. Use the provided context text to add necessary details in each fact, so that each fact can be independently and unambiguously verified.\n",
        "3. Avoid overly obvious facts that are universally true and not useful for fact-checking (e.g., \"This person is a human\", \"1949 is a year\").\n",
        "4. Each fact must be verifiable on its own and preserve relevant context.\n",
        "5. Include non-obvious implications if they help preserve key information.\n",
        "6. Output the facts as complete sentences.\n",
        "7. Separate each fact with (*) only — do not use bullets, numbers, or any other text.\n",
        "8. Do not repeat facts or include redundant rephrasings.\n",
        "\n",
        "Example Input:\n",
        "Lanny Flaherty is an American actor born on December 18, 1949, in Pensacola, Florida.\n",
        "\n",
        "Example Context:\n",
        "Full name: Lanny Flaherty.\n",
        "\n",
        "Example Output:\n",
        "Lanny Flaherty is an American actor (*) Lanny Flaherty was born on December 18, 1949 (*) Lanny Flaherty was born in Pensacola, Florida (*) Pensacola is in Florida\n",
        "\n",
        "---\n",
        "\n",
        "Input sentence:\n",
        "{input}\n",
        "\n",
        "Context:\n",
        "Full name: {context}\n",
        "\"\"\"\n",
        ")\n",
        "\n",
        "prompt3 = ChatPromptTemplate.from_template('''\n",
        "\n",
        "You are a fact-checking assistant. Your task is to verify the Original Statement using the provided Wikipedia Context. Follow these rules strictly:\n",
        "\n",
        "1. If the Context DOES NOT CONTAIN INFORMATION about the statement:\n",
        "   - Return exactly: \"No supporting evidence found in the provided context.\"\n",
        "\n",
        "2. If the Context CONFIRMS the statement is correct:\n",
        "   - Return the Original Statement exactly as is.\n",
        "\n",
        "3. If the Context CONTRADICTS the statement:\n",
        "   - Return the CORRECTED version of the statement using the information from the Context.\n",
        "\n",
        "4. Do not include explanations, reasoning, or additional commentary. Only return the final output as specified.\n",
        "\n",
        "Original Statement: {input}\n",
        "\n",
        "Wikipedia Context: {context}\n",
        "\n",
        "Output:''')\n",
        "\n",
        "prompt4 = ChatPromptTemplate.from_template('''\n",
        "\n",
        "You are a fact-verification assistant. Your task is to modify the Original Statement according to the Wikipedia Context following these exact rules:\n",
        "\n",
        " Output Requirements:\n",
        "   - ALWAYS maintain the original sentence structure when possible\n",
        "   - ONLY modify the parts that require correction\n",
        "   - NEVER add new information not present in either statement or context\n",
        "   - PRESERVE proper nouns, names, and technical terms exactly as written\n",
        "   - OUTPUT ONLY the final verified statement with no additional text\n",
        "\n",
        "Original Statement: {input}\n",
        "\n",
        "Wikipedia Context: {context}\n",
        "\n",
        "Verified Statement:''')\n",
        "extract_context_prompt = ChatPromptTemplate.from_template(\"\"\"\n",
        "You are an assistant specialized in analyzing biographical texts.\n",
        "\n",
        "Carefully extract and clearly identify the following key contextual information from the given text:\n",
        "- Full name of the individual\n",
        "- Entity type (e.g., person, organization)\n",
        "- Profession or occupation, if specified\n",
        "- Nationality or citizenship\n",
        "- Place of birth and date of birth\n",
        "- Any other unique and relevant identifiers or distinguishing characteristics\n",
        "\n",
        "Provide the output strictly in valid JSON format, with clearly labeled fields corresponding to the above categories.\n",
        "\n",
        "Text:\n",
        "{text}\n",
        "\n",
        "Respond only with the JSON object, without additional commentary or explanation.\n",
        "\"\"\")\n",
        "conclusions = ChatPromptTemplate.from_template(\"\"\"\n",
        "You are an expert assistant in fact-checking and text refinement.\n",
        "\n",
        "Below is a list of key factual hints (context) extracted from verified information:\n",
        "\n",
        "{hints}\n",
        "\n",
        "Now, you will be given a text that may contain inaccuracies, ambiguities, or missing information.\n",
        "\n",
        "Your task is to revise this text so that it fully aligns with the factual hints provided, correcting any mistakes, filling gaps, and making the text clear and factually accurate.\n",
        "\n",
        "Do not add any information not supported by the hints.\n",
        "\n",
        "Text to correct:\n",
        "{text_to_fix}\n",
        "\n",
        "Revised text:\n",
        "\n",
        "\"\"\"\n",
        ")\n",
        "\n",
        "promt_to_indicate_the_fact = ChatPromptTemplate.from_template('''\n",
        "Analyze the following statement and context STRICTLY. Return ONLY \"S\" or \"NS\" without any explanations:\n",
        "\n",
        "1. Return \"S\" ONLY IF:\n",
        "   - The context EXPLICITLY STATES the fact\n",
        "   - The fact is mentioned VERBATIM or with SYNONYMS that preserve original meaning\n",
        "   - There are NO CONTRADICTIONS\n",
        "\n",
        "2. Return \"NS\" in ALL OTHER CASES including:\n",
        "   - No information found\n",
        "   - Partial matches\n",
        "   - Contradictions\n",
        "   - Ambiguous phrasing\n",
        "   - Implied but not stated facts\n",
        "\n",
        "Original Statement: {input}\n",
        "Wikipedia Context: {context}\n",
        "\n",
        "Output:\n",
        "\n",
        "''')\n"
      ]
    },
    {
      "cell_type": "markdown",
      "metadata": {
        "id": "WXCdvDc78NSn"
      },
      "source": [
        "В данном блоке реализуются основные компоненты системы для извлечения фактов, контекста и верификации утверждений с помощью большой языковой модели GroqLlama и заранее подготовленных промтов.\n",
        "\n",
        "sent_chain — цепочка для извлечения атомарных фактов из входного предложения. Использует шаблон prompt_for_fact_extractor, который разбивает сложные предложения на отдельные проверяемые утверждения.\n",
        "\n",
        "extract_context_chain — цепочка для выделения ключевой информации из биографического текста. Применяет шаблон extract_context_prompt для извлечения структурированного контекста в формате JSON.\n",
        "\n",
        "check_fackt — цепочка для первичной проверки фактов. Использует шаблон prompt3, который сравнивает исходное утверждение с контекстом из Википедии и возвращает либо подтверждённое, либо исправленное утверждение, либо сообщение об отсутствии доказательств.\n",
        "\n",
        "fact_checker — цепочка для точечной корректировки утверждений. Применяет шаблон prompt4, который сохраняет структуру исходного предложения, корректируя только выявленные ошибки на основе верифицированного контекста.\n",
        "\n",
        "fin_conclusions — цепочка для окончательной обработки и генерации исправленного текста. Использует шаблон conclusions для объединения всех исправлений и уточнений в единый связный текст.\n",
        "\n",
        "indicate_the_fact — цепочка для классификации утверждений как подтверждённых (\"S\") или неподтверждённых (\"NS\") на основании анализа контекста. Использует шаблон promt_to_indicate_the_fact, который даёт однозначный ответ без дополнительного текста."
      ]
    },
    {
      "cell_type": "code",
      "execution_count": 12,
      "metadata": {
        "colab": {
          "base_uri": "https://localhost:8080/"
        },
        "id": "jhUF-zWws3ls",
        "outputId": "ec85047e-4f8d-4b4f-ff55-633d4301ebcf"
      },
      "outputs": [
        {
          "name": "stderr",
          "output_type": "stream",
          "text": [
            "<ipython-input-12-dad26517d6e9>:1: LangChainDeprecationWarning: The class `LLMChain` was deprecated in LangChain 0.1.17 and will be removed in 1.0. Use :meth:`~RunnableSequence, e.g., `prompt | llm`` instead.\n",
            "  sent_chain= LLMChain(llm=llm_GroqLlama,prompt=prompt_for_fact_extractor)\n"
          ]
        }
      ],
      "source": [
        "sent_chain= LLMChain(llm=llm_GroqLlama,prompt=prompt_for_fact_extractor)\n",
        "\n",
        "extract_context_chain = LLMChain(\n",
        "    llm=llm_GroqLlama,\n",
        "    prompt=extract_context_prompt\n",
        ")\n",
        "\n",
        "check_fackt=create_stuff_documents_chain(llm=llm_GroqLlama,prompt=prompt3)\n",
        "fact_checker=create_stuff_documents_chain(llm=llm_GroqLlama, prompt=prompt4)\n",
        "fin_conclusions =  LLMChain(llm=llm_GroqLlama,prompt=conclusions)\n",
        "indicate_the_fact=create_stuff_documents_chain(llm=llm_GroqLlama,prompt=promt_to_indicate_the_fact)"
      ]
    },
    {
      "cell_type": "markdown",
      "metadata": {
        "id": "jQhKlMH0AF3h"
      },
      "source": [
        "#Данный блок реализует обработку входного текста, включая разбиение на предложения, замену местоимений на имена из контекста, а также извлечение структурированной информации.\n",
        "\n",
        "Инициализация: загружается модель spaCy en_core_web_sm для обработки естественного языка.\n",
        "\n",
        "Функция extract_json(text):\n",
        "\n",
        "Извлекает JSON-объект из текста, находя первый и последний символы фигурных скобок.\n",
        "\n",
        "При отсутствии фигурных скобок вызывает ошибку.\n",
        "\n",
        "Функция splitting_the_text(text):\n",
        "\n",
        "Принимает входной текст и возвращает два объекта: список предложений и извлечённый контекст в виде словаря.\n",
        "\n",
        "Сначала обрабатывает текст через spaCy, разбивая его на предложения.\n",
        "\n",
        "Для каждого предложения ищет именованные сущности типа PERSON и ORG и сохраняет их в словарь контекста.\n",
        "\n",
        "Если в контексте найден человек (PERSON), заменяет в предложениях местоимения he, she на имя этого человека для повышения ясности.\n",
        "\n",
        "Вызывает цепочку extract_context_chain для извлечения контекста из текста в формате JSON.\n",
        "\n",
        "Преобразует JSON-строку в словарь.\n",
        "\n",
        "Возвращает список предложений длиной не менее 20 символов и контекст.\n",
        "\n",
        "Особенности:\n",
        "\n",
        "Местоимения заменяются только при наличии в контексте сущности типа PERSON, что помогает сделать предложения более самостоятельными для последующей обработки.\n",
        "\n",
        "Извлечение контекста позволяет получить структурированные данные о ключевых характеристиках из текста.\n",
        "Функция fact_extractor(sentence: str, context) принимает предложение и контекст и возвращает список атомарных фактов, извлечённых из предложения.\n",
        "\n",
        "Использует цепочку sent_chain с заранее подготовленным промтом для разбиения предложения на независимые факты.\n",
        "\n",
        "Разделяет строку фактов по разделителю (*).\n",
        "\n",
        "Возвращает список чистых фактов (без лишних пробелов).\n",
        "\n"
      ]
    },
    {
      "cell_type": "code",
      "execution_count": 26,
      "metadata": {
        "id": "M__u_AzNNGar"
      },
      "outputs": [],
      "source": [
        "\n",
        "\n",
        "nlp = spacy.load(\"en_core_web_sm\")\n",
        "def extract_json(text):\n",
        "    start = text.find('{')\n",
        "    end = text.rfind('}')\n",
        "    if start == -1 or end == -1:\n",
        "        raise ValueError(\"JSON braces not found in text\")\n",
        "    json_str = text[start:end+1]\n",
        "    return json.loads(json_str)\n",
        "\n",
        "def splitting_the_text(text):\n",
        "    if not text:\n",
        "        return []\n",
        "\n",
        "    doc = nlp(text)\n",
        "    sentences = []\n",
        "    context = {}\n",
        "\n",
        "    for sent in doc.sents:\n",
        "        sent_text = sent.text.strip()\n",
        "\n",
        "        for ent in sent.ents:\n",
        "            if ent.label_ in ('PERSON', 'ORG'):\n",
        "                context[ent.text] = ent.label_\n",
        "\n",
        "        if 'PERSON' in context.values():\n",
        "            person = next(k for k,v in context.items() if v == 'PERSON')\n",
        "            sent_text = sent_text.replace(' he ', f' {person} ')\n",
        "            sent_text = sent_text.replace('He ', f'{person} ')\n",
        "            sent_text = sent_text.replace(' she ', f' {person} ')\n",
        "            sent_text = sent_text.replace('She ', f'{person} ')\n",
        "\n",
        "        sentences.append(sent_text)\n",
        "    context_json_str = extract_context_chain.run(text=text)\n",
        "    print(context_json_str)\n",
        "    data = extract_json(context_json_str)\n",
        "    print(data)\n",
        "\n",
        "    return [s for s in sentences if len(s) >= 20], data\n",
        "\n",
        "def fact_extractor(sentence: str, context):\n",
        "    facts = sent_chain.run(input=sentence, context=context)\n",
        "    facts_list = [fact.strip() for fact in facts.split('(*)')]\n",
        "    return facts_list"
      ]
    },
    {
      "cell_type": "markdown",
      "metadata": {
        "id": "of-_5aZaHeUh"
      },
      "source": [
        " Формирует итоговую исправленную версию текста на основе фактов (hints) и исходного текста.\n",
        "\n",
        "    Параметры:\n",
        "    - doc (str): Строка с ключевыми фактами (hints), извлечёнными из проверенных источников.\n",
        "    - text (str): Исходный текст, содержащий возможные ошибки или неточности.\n",
        "\n",
        "    Возвращает:\n",
        "    dict: Словарь с двумя ключами:\n",
        "        - 'model': исправленный и уточнённый текст, сформированный моделью на основе фактов.\n",
        "        - 'orig': исходный текст, переданный для проверки."
      ]
    },
    {
      "cell_type": "code",
      "execution_count": 14,
      "metadata": {
        "id": "PkO9VESDqoCm"
      },
      "outputs": [],
      "source": [
        "\n",
        "def resultt(doc: str, text: str) -> dict:\n",
        "    corrected_text = fin_conclusions.run(hints=doc, text_to_fix=text)\n",
        "    return {\n",
        "        'model': corrected_text,\n",
        "        'orig': text\n",
        "    }"
      ]
    },
    {
      "cell_type": "markdown",
      "metadata": {
        "id": "Kyw-gwLMIC5H"
      },
      "source": [
        "Класс для извлечения ключевых сущностей и ключевых слов из фактов,\n",
        "загрузки и обработки статей Википедии в реальном времени, а также\n",
        "построения векторного индекса и поиска релевантной информации для\n",
        "фактической проверки.\n",
        "\n",
        "    Атрибуты:\n",
        "    - embedding: Объект для создания эмбеддингов текста с использованием модели HuggingFace.\n",
        "    - model_response: Модель или цепочка для обработки и оценки релевантности найденных данных.\n",
        "    - text_splitter: Компонент для разбиения текстов на чанки.\n",
        "    - article_cache: Кэш загруженных статей Википедии для ускорения повторных запросов.\n",
        "    - nlp: spaCy модель для обработки текста и извлечения сущностей.\n",
        "    - kb_model: Модель KeyBERT для извлечения ключевых слов.\n",
        "\n",
        "    Методы:\n",
        "    - extract_main_entities_and_keywords(fact, top_n_keywords=5) -> List[str]\n",
        "        Извлекает важные сущности (например, персоны, организации) и ключевые слова из входного факта.\n",
        "\n",
        "    - clean_title(title: str) -> str\n",
        "        Очищает строку от нежелательных символов и формирует корректный заголовок.\n",
        "\n",
        "    - extract_wiki_titles_spacy(fact: str) -> List[str]\n",
        "        Извлекает заголовки статей Википедии на основе NER (Named Entity Recognition) с помощью spaCy.\n",
        "\n",
        "    - extract_titles_fallback(text: str) -> List[str]\n",
        "        Резервный метод для извлечения заголовков из кавычек в тексте.\n",
        "\n",
        "    - extract_titles_keybert(text: str, top_n: int = 3) -> List[str]\n",
        "        Извлекает ключевые слова с помощью KeyBERT как запасной вариант.\n",
        "\n",
        "    - extract_wiki_titles(fact: str) -> List[str]\n",
        "        Объединяет различные методы извлечения заголовков для максимального охвата.\n",
        "\n",
        "    - _load_wikipedia_article(page_title: str) -> Optional[Document]\n",
        "        Загружает и кэширует содержимое статьи Википедии по названию страницы.\n",
        "\n",
        "    - _create_vector_index(documents: List[Document]) -> Optional[FAISS]\n",
        "        Разбивает статьи на чанки и создаёт векторный индекс FAISS для поиска.\n",
        "\n",
        "    - retrieve_hints(fact: str, max_k: int = 10) -> List[str]\n",
        "        Выполняет поиск релевантных подсказок (фактов) в Википедии для данного факта,\n",
        "        используя векторный поиск с постепенным увеличением параметра k.\n",
        "\n",
        "    - batch_retrieve_hints(facts: List[str], top_k: int = 3) -> Dict[str, List[str]]\n",
        "        Пакетная обработка списка фактов для получения подсказок с использованием retrieve_hints.\n",
        "\n",
        "\n",
        "\n",
        "  Класс предназначен для интеграции в системы верификации фактов, использующие внешний\n",
        "  контекст Википедии для проверки утверждений."
      ]
    },
    {
      "cell_type": "code",
      "execution_count": 105,
      "metadata": {
        "id": "RH96Rs68_8dg"
      },
      "outputs": [],
      "source": [
        "import requests\n",
        "from bs4 import BeautifulSoup\n",
        "from keybert import KeyBERT\n",
        "\n",
        "class TTWikipediaRealTimeRetriever:\n",
        "    def __init__(self,model_response=check_fackt):\n",
        "        self.embedding = HuggingFaceEmbeddings(\n",
        "            model_name=\"sentence-transformers/all-MiniLM-L6-v2\",\n",
        "            model_kwargs={'device': 'cpu'},\n",
        "            encode_kwargs={'normalize_embeddings': False}\n",
        "        )\n",
        "        self.model_response=model_response\n",
        "        self.text_splitter = RecursiveCharacterTextSplitter(chunk_size=500, chunk_overlap=100)\n",
        "        self.article_cache = {}\n",
        "        self.nlp = spacy.load(\"en_core_web_sm\")\n",
        "        # self.nlp = spacy.load(\"en_core_web_trf\")\n",
        "        self.kb_model = KeyBERT(\"all-MiniLM-L6-v2\")\n",
        "    def extract_main_entities_and_keywords(self, fact: str, top_n_keywords=5) -> List[str]:\n",
        "        doc = self.nlp(fact)\n",
        "        # 1. NER сущности\n",
        "        ner_entities = [ent.text.strip() for ent in doc.ents if ent.label_ in (\"PERSON\", \"ORG\", \"GPE\", \"LOC\", \"WORK_OF_ART\", \"EVENT\")]\n",
        "\n",
        "        # Уникальность с сохранением порядка\n",
        "        seen = set()\n",
        "        ner_entities_unique = []\n",
        "        for ent in ner_entities:\n",
        "            clean_ent = self.clean_title(ent)\n",
        "            if clean_ent.lower() not in seen and len(clean_ent) > 2:\n",
        "                ner_entities_unique.append(clean_ent)\n",
        "                seen.add(clean_ent.lower())\n",
        "\n",
        "        # 2. Ключевые слова KeyBERT\n",
        "        keywords = self.kb_model.extract_keywords(fact, top_n=top_n_keywords, stop_words='english')\n",
        "        keywords_list = []\n",
        "        for kw, _ in keywords:\n",
        "            clean_kw = self.clean_title(kw)\n",
        "            if clean_kw.lower() not in seen and len(clean_kw) > 2:\n",
        "                keywords_list.append(clean_kw)\n",
        "                seen.add(clean_kw.lower())\n",
        "\n",
        "        # 3. Объединяем, с приоритетом NER-сущностей\n",
        "        combined = ner_entities_unique + keywords_list\n",
        "\n",
        "        return combined\n",
        "\n",
        "\n",
        "    def clean_title(self, title: str) -> str:\n",
        "        title = re.sub(r\"'s\\b\", \"\", title)\n",
        "        title = re.sub(r\"[\\\"'“”.,!?;:()\\[\\]{}]\", \"\", title)\n",
        "        return title.strip()\n",
        "\n",
        "    def extract_wiki_titles_spacy(self, fact: str) -> List[str]:\n",
        "        doc = self.nlp(fact)\n",
        "        raw_titles = [\n",
        "            ent.text.strip()\n",
        "            for ent in doc.ents\n",
        "            if ent.label_ in (\"PERSON\", \"GPE\", \"ORG\", \"LOC\", \"WORK_OF_ART\", \"PRODUCT\", \"EVENT\")\n",
        "        ]\n",
        "        return list(set(self.clean_title(t) for t in raw_titles if len(t) > 2))\n",
        "\n",
        "    def extract_titles_fallback(self, text: str) -> List[str]:\n",
        "        titles = re.findall(r'\"([^\"]+)\"', text)\n",
        "        if titles:\n",
        "            return [self.clean_title(t) for t in titles]\n",
        "        return []\n",
        "\n",
        "    def extract_titles_keybert(self, text: str, top_n: int = 3) -> List[str]:\n",
        "        keywords = self.kb_model.extract_keywords(text, top_n=top_n, stop_words='english')\n",
        "        return [self.clean_title(k[0]) for k in keywords]\n",
        "\n",
        "    def extract_wiki_titles(self, fact: str) -> List[str]:\n",
        "        titles = self.extract_wiki_titles_spacy(fact)\n",
        "        if not titles:\n",
        "            print(\"[INFO] spaCy ничего не нашёл — fallback на кавычки и KeyBERT.\")\n",
        "            titles = self.extract_titles_fallback(fact)\n",
        "        if not titles:\n",
        "            titles = self.extract_titles_keybert(fact)\n",
        "        return list(set(titles))\n",
        "\n",
        "    def _load_wikipedia_article(self, page_title: str) -> Optional[Document]:\n",
        "        if page_title in self.article_cache:\n",
        "            return self.article_cache[page_title]\n",
        "\n",
        "        response = requests.get(\n",
        "            \"https://en.wikipedia.org/w/api.php\",\n",
        "            params={\n",
        "                \"action\": \"parse\",\n",
        "                \"format\": \"json\",\n",
        "                \"page\": page_title,\n",
        "                \"prop\": \"text\",\n",
        "                \"disabletoc\": 1,\n",
        "            }\n",
        "        )\n",
        "\n",
        "        try:\n",
        "            html = response.json().get(\"parse\", {}).get(\"text\", {}).get(\"*\", \"\")\n",
        "            if not html:\n",
        "                print(f\"[!] Статья '{page_title}' не найдена.\")\n",
        "                return {}\n",
        "\n",
        "            soup = BeautifulSoup(html, \"html.parser\")\n",
        "            text = soup.get_text()\n",
        "            doc = Document(page_content=text, metadata={\"source\": page_title})\n",
        "            self.article_cache[page_title] = doc\n",
        "            return doc\n",
        "\n",
        "        except Exception as e:\n",
        "            print(f\"[!] Ошибка при загрузке статьи '{page_title}': {e}\")\n",
        "            return {}\n",
        "\n",
        "    def _create_vector_index(self, documents: List[Document]) -> Optional[FAISS]:\n",
        "        split_docs = self.text_splitter.split_documents(documents)\n",
        "        if not split_docs:\n",
        "            print(\"[!] Пустой список чанков для индексации.\")\n",
        "            return {}\n",
        "        return FAISS.from_documents(split_docs, self.embedding)\n",
        "\n",
        "    def retrieve_hints(self, fact: str, max_k: int = 10) -> List[str]:\n",
        "\n",
        "        titles = self.extract_main_entities_and_keywords(fact, top_n_keywords=5)\n",
        "\n",
        "        print(f\"[DEBUG] Извлечённые заголовки: {titles}\")\n",
        "\n",
        "        docs = []\n",
        "        for title in titles[:1]:\n",
        "            doc = self._load_wikipedia_article(title)\n",
        "            if doc:\n",
        "                docs.append(doc)\n",
        "\n",
        "        if not docs:\n",
        "            print(\"[!] Не найдено ни одной статьи.\")\n",
        "            return {}\n",
        "\n",
        "        vector_store = self._create_vector_index(docs)\n",
        "        if vector_store is None:\n",
        "            return {}\n",
        "\n",
        "        result = ''\n",
        "        for k in range(2, max_k + 1, 2):\n",
        "            retriever = vector_store.as_retriever(search_kwargs={\"k\": k})\n",
        "            retrieval_chain = create_retrieval_chain(retriever, self.model_response)\n",
        "            result = retrieval_chain.invoke({'input': fact})\n",
        "\n",
        "            if result.get('answer') != 'No supporting evidence found in the provided context.':\n",
        "                print(f\"[INFO] Подходящее значение top_k: {k}\")\n",
        "                return result\n",
        "            # if result.get('answer') != 'NS':\n",
        "            #     print(f\"[INFO] Подходящее значение top_k: {k}\")\n",
        "            #     return result\n",
        "\n",
        "        return result\n",
        "\n",
        "    def batch_retrieve_hints(self, facts: List[str], top_k: int = 3) -> Dict[str, List[str]]:\n",
        "        results = {}\n",
        "        for fact in tqdm(facts, desc=\"Обработка фактов\"):\n",
        "            results[fact] = self.retrieve_hints(fact, top_k)\n",
        "        return results\n",
        "\n",
        "\n",
        "def verify_fact(fact: str, retriever=ttret):\n",
        "    hints = ttret.retrieve_hints(fact)\n",
        "    return hints\n"
      ]
    },
    {
      "cell_type": "markdown",
      "metadata": {
        "id": "ubyKSAaILDcL"
      },
      "source": [
        "#Тестовая демонстрация этапов верефикации текста"
      ]
    },
    {
      "cell_type": "code",
      "execution_count": 78,
      "metadata": {
        "colab": {
          "base_uri": "https://localhost:8080/"
        },
        "id": "yiC7S-53qs8W",
        "outputId": "b342de1d-eab5-4798-e698-f04606e61213"
      },
      "outputs": [
        {
          "name": "stdout",
          "output_type": "stream",
          "text": [
            "```json\n",
            "{\n",
            "  \"fullName\": \"Lanny Flaherty\",\n",
            "  \"entityType\": \"person\",\n",
            "  \"profession\": \"actor\",\n",
            "  \"nationality\": \"American\",\n",
            "  \"placeOfBirth\": \"Pensacola, Florida\",\n",
            "  \"dateOfBirth\": \"1949-12-18\",\n",
            "  \"distinguishingCharacteristics\": [\"distinctive looks\", \"deep gravelly voice\"]\n",
            "}\n",
            "```\n",
            "{'fullName': 'Lanny Flaherty', 'entityType': 'person', 'profession': 'actor', 'nationality': 'American', 'placeOfBirth': 'Pensacola, Florida', 'dateOfBirth': '1949-12-18', 'distinguishingCharacteristics': ['distinctive looks', 'deep gravelly voice']}\n"
          ]
        }
      ],
      "source": [
        "l,js=splitting_the_text('Lanny Flaherty is an American actor born on December 18, 1949, in Pensacola, Florida. He has appeared in numerous films, television shows, and theater productions throughout his career, which began in the late 1970s. Some of his notable film credits include \\\"King of New York,\\\" \\\"The Abyss,\\\" \\\"Natural Born Killers,\\\" \\\"The Game,\\\" and \\\"The Straight Story.\\\" On television, he has appeared in shows such as \\\"Law & Order,\\\" \\\"The Sopranos,\\\" \\\"Boardwalk Empire,\\\" and \\\"The Leftovers.\\\" Flaherty has also worked extensively in theater, including productions at the Public Theater and the New York Shakespeare Festival. He is known for his distinctive looks and deep gravelly voice, which have made him a memorable character actor in the industry.')\n"
      ]
    },
    {
      "cell_type": "code",
      "execution_count": 79,
      "metadata": {
        "colab": {
          "base_uri": "https://localhost:8080/"
        },
        "id": "P2u4qrgMthd5",
        "outputId": "00cc49eb-f4b3-4f56-e4cf-30fd9e428b65"
      },
      "outputs": [
        {
          "data": {
            "text/plain": [
              "['Lanny Flaherty is an American actor born on December 18, 1949, in Pensacola, Florida.',\n",
              " 'Lanny Flaherty has appeared in numerous films, television shows, and theater productions throughout his career, which began in the late 1970s.',\n",
              " 'Some of his notable film credits include \"King of New York,\" \"The Abyss,\" \"Natural Born Killers,\" \"The Game,\" and \"The Straight Story.\"',\n",
              " 'On television, Lanny Flaherty has appeared in shows such as \"Law & Order,\" \"The Sopranos,\" \"Boardwalk Empire,\" and \"The Leftovers.\"',\n",
              " 'Flaherty has also worked extensively in theater, including productions at the Public Theater and the New York Shakespeare Festival.',\n",
              " 'Lanny Flaherty is known for his distinctive looks and deep gravelly voice, which have made him a memorable character actor in the industry.']"
            ]
          },
          "execution_count": 79,
          "metadata": {},
          "output_type": "execute_result"
        }
      ],
      "source": [
        "l"
      ]
    },
    {
      "cell_type": "code",
      "execution_count": 80,
      "metadata": {
        "id": "CXTEa_2StiPY"
      },
      "outputs": [],
      "source": [
        "f=fact_extractor(l[4],js['fullName'])"
      ]
    },
    {
      "cell_type": "code",
      "execution_count": 81,
      "metadata": {
        "colab": {
          "base_uri": "https://localhost:8080/"
        },
        "id": "z606SEOftpXx",
        "outputId": "632035d4-b8e3-437f-a602-64981202e67e"
      },
      "outputs": [
        {
          "data": {
            "text/plain": [
              "['Lanny Flaherty has worked extensively in theater',\n",
              " 'Lanny Flaherty has worked at the Public Theater',\n",
              " 'Lanny Flaherty has worked at the New York Shakespeare Festival',\n",
              " 'The New York Shakespeare Festival is associated with theater productions',\n",
              " 'The Public Theater is associated with theater productions']"
            ]
          },
          "execution_count": 81,
          "metadata": {},
          "output_type": "execute_result"
        }
      ],
      "source": [
        "f"
      ]
    },
    {
      "cell_type": "code",
      "execution_count": 82,
      "metadata": {
        "id": "NiYMAIMVAvcB"
      },
      "outputs": [],
      "source": [
        "ttret=TTWikipediaRealTimeRetriever()"
      ]
    },
    {
      "cell_type": "code",
      "execution_count": 83,
      "metadata": {
        "colab": {
          "base_uri": "https://localhost:8080/"
        },
        "id": "1T3bri7ltqYF",
        "outputId": "df2ed1d6-6cf6-48f9-c68c-5c7484c4fd41"
      },
      "outputs": [
        {
          "name": "stdout",
          "output_type": "stream",
          "text": [
            "[DEBUG] Извлечённые заголовки: ['Lanny Flaherty', 'flaherty', 'lanny', '1949', 'born', 'december']\n",
            "[INFO] Подходящее значение top_k: 2\n"
          ]
        }
      ],
      "source": [
        "v = verify_fact('Lanny Flaherty was born on December 18, 1949.',retriever=ttret)"
      ]
    },
    {
      "cell_type": "code",
      "execution_count": 84,
      "metadata": {
        "colab": {
          "base_uri": "https://localhost:8080/"
        },
        "id": "r_HktpVSz53U",
        "outputId": "700ea189-a812-4106-cf6a-8a9378293f92"
      },
      "outputs": [
        {
          "data": {
            "text/plain": [
              "{'input': 'Lanny Flaherty was born on December 18, 1949.',\n",
              " 'context': [Document(id='d49324b4-6c21-4d08-8a1c-1a34aff1af42', metadata={'source': 'Lanny Flaherty'}, page_content='Lanny FlahertyBorn(1942-07-27)July 27, 1942Pontotoc, Mississippi, U.S.DiedFebruary 18, 2024(2024-02-18) (aged\\xa081)New York City, U.S.Alma\\xa0materUniversity of Southern MississippiOccupationActorYears\\xa0active1984–2020\\nLanny Flaherty (July 27, 1942 – February 18, 2024) was an American actor.'),\n",
              "  Document(id='28d8bc39-b8cd-402f-b501-58230065673b', metadata={'source': 'Lanny Flaherty'}, page_content='^ \"Obituary of Lanny Flaherty\". Andrett Funeral Home. Retrieved February 24, 2024.\\n\\n\\nExternal links[edit]\\nLanny Flaherty at IMDb\\nAuthority control databases InternationalVIAFWorldCatNationalGermanyPeopleDeutsche Biographie')],\n",
              " 'answer': 'Lanny Flaherty was born on July 27, 1942.'}"
            ]
          },
          "execution_count": 84,
          "metadata": {},
          "output_type": "execute_result"
        }
      ],
      "source": [
        "v"
      ]
    },
    {
      "cell_type": "code",
      "execution_count": null,
      "metadata": {
        "colab": {
          "base_uri": "https://localhost:8080/"
        },
        "id": "8mAp3SWY0sRg",
        "outputId": "661675a7-30a6-402f-e9eb-30c883b253ca"
      },
      "outputs": [
        {
          "name": "stdout",
          "output_type": "stream",
          "text": [
            "```json\n",
            "{\n",
            "  \"fullName\": \"Lanny Flaherty\",\n",
            "  \"entityType\": \"person\",\n",
            "  \"profession\": \"actor\",\n",
            "  \"nationality\": \"American\",\n",
            "  \"placeOfBirth\": \"Pensacola, Florida\",\n",
            "  \"dateOfBirth\": \"December 18, 1949\",\n",
            "  \"distinguishingCharacteristics\": [\"distinctive looks\", \"deep gravelly voice\"]\n",
            "}\n",
            "```\n",
            "{'fullName': 'Lanny Flaherty', 'entityType': 'person', 'profession': 'actor', 'nationality': 'American', 'placeOfBirth': 'Pensacola, Florida', 'dateOfBirth': 'December 18, 1949', 'distinguishingCharacteristics': ['distinctive looks', 'deep gravelly voice']}\n"
          ]
        },
        {
          "name": "stderr",
          "output_type": "stream",
          "text": [
            "\rОбработка сегментов текста:   0%|          | 0/6 [00:00<?, ?it/s]"
          ]
        },
        {
          "name": "stdout",
          "output_type": "stream",
          "text": [
            "\n",
            ">>> Обрабатываем предложение/сегмент:\n",
            "Lanny Flaherty is an American actor born on December 18, 1949, in Pensacola, Florida.\n",
            "\n",
            "Проверяем факт: \"Lanny Flaherty is an American actor\"\n",
            "[DEBUG] Извлечённые заголовки: ['Lanny Flaherty', 'flaherty', 'lanny', 'actor', 'american']\n",
            "[INFO] Подходящее значение top_k: 2\n",
            "Результат проверки: Lanny Flaherty was an American actor\n",
            "--------------------------------------------------\n",
            "Проверяем факт: \"Lanny Flaherty was born on December 18, 1949\"\n",
            "[DEBUG] Извлечённые заголовки: ['Lanny Flaherty', 'flaherty', 'lanny', '1949', 'born', 'december']\n",
            "[INFO] Подходящее значение top_k: 2\n",
            "Результат проверки: Lanny Flaherty was born on July 27, 1942\n",
            "--------------------------------------------------\n",
            "Проверяем факт: \"Lanny Flaherty was born in Pensacola, Florida\"\n",
            "[DEBUG] Извлечённые заголовки: ['Lanny Flaherty', 'Pensacola', 'Florida', 'flaherty', 'lanny', 'born']\n",
            "[INFO] Подходящее значение top_k: 2\n",
            "Результат проверки: No supporting evidence found in the provided context is not applicable here as the context contains information about Lanny Flaherty's birthplace. \n",
            "Lanny Flaherty was born in Pontotoc, Mississippi.\n",
            "--------------------------------------------------\n",
            "Проверяем факт: \"Lanny Flaherty has distinctive looks and a deep gravelly voice\"\n",
            "[DEBUG] Извлечённые заголовки: ['Lanny Flaherty', 'flaherty', 'lanny', 'voice', 'gravelly', 'distinctive']\n",
            "Результат проверки: No supporting evidence found in the provided context.\n",
            "--------------------------------------------------\n",
            "Проверяем факт: \"Pensacola is in Florida\"\n",
            "[DEBUG] Извлечённые заголовки: ['Pensacola', 'Florida']\n"
          ]
        },
        {
          "name": "stderr",
          "output_type": "stream",
          "text": [
            "\rОбработка сегментов текста:  17%|█▋        | 1/6 [00:06<00:33,  6.67s/it]"
          ]
        },
        {
          "name": "stdout",
          "output_type": "stream",
          "text": [
            "[INFO] Подходящее значение top_k: 2\n",
            "Результат проверки: Pensacola is in Florida\n",
            "--------------------------------------------------\n",
            "\n",
            ">>> Обрабатываем предложение/сегмент:\n",
            "Lanny Flaherty has appeared in numerous films, television shows, and theater productions throughout his career, which began in the late 1970s.\n",
            "\n",
            "Проверяем факт: \"Lanny Flaherty is an American actor\"\n",
            "[DEBUG] Извлечённые заголовки: ['Lanny Flaherty', 'flaherty', 'lanny', 'actor', 'american']\n",
            "[INFO] Подходящее значение top_k: 2\n",
            "Результат проверки: Lanny Flaherty was an American actor\n",
            "--------------------------------------------------\n",
            "Проверяем факт: \"Lanny Flaherty's career began in the late 1970s\"\n",
            "[DEBUG] Извлечённые заголовки: ['Lanny Flaherty', 'flaherty', 'lanny', '1970s', 'career', 'began']\n",
            "[INFO] Подходящее значение top_k: 2\n",
            "Результат проверки: Lanny Flaherty's career began in 1984\n",
            "--------------------------------------------------\n",
            "Проверяем факт: \"Lanny Flaherty has appeared in numerous films\"\n",
            "[DEBUG] Извлечённые заголовки: ['Lanny Flaherty', 'flaherty', 'lanny', 'films', 'numerous', 'appeared']\n",
            "[INFO] Подходящее значение top_k: 2\n",
            "Результат проверки: Lanny Flaherty has appeared in numerous films\n",
            "--------------------------------------------------\n",
            "Проверяем факт: \"Lanny Flaherty has appeared in numerous television shows\"\n",
            "[DEBUG] Извлечённые заголовки: ['Lanny Flaherty', 'flaherty', 'lanny', 'shows', 'television', 'appeared']\n",
            "[INFO] Подходящее значение top_k: 4\n",
            "Результат проверки: Lanny Flaherty has appeared in numerous television shows\n",
            "--------------------------------------------------\n",
            "Проверяем факт: \"Lanny Flaherty has appeared in numerous theater productions\"\n",
            "[DEBUG] Извлечённые заголовки: ['Lanny Flaherty', 'flaherty', 'lanny', 'theater', 'productions', 'numerous']\n"
          ]
        },
        {
          "name": "stderr",
          "output_type": "stream",
          "text": [
            "\rОбработка сегментов текста:  33%|███▎      | 2/6 [00:51<01:57, 29.37s/it]"
          ]
        },
        {
          "name": "stdout",
          "output_type": "stream",
          "text": [
            "Результат проверки: No supporting evidence found in the provided context.\n",
            "--------------------------------------------------\n",
            "\n",
            ">>> Обрабатываем предложение/сегмент:\n",
            "Some of his notable film credits include \"King of New York,\" \"The Abyss,\" \"Natural Born Killers,\" \"The Game,\" and \"The Straight Story.\"\n",
            "\n",
            "Проверяем факт: \"Lanny Flaherty, an American actor, has appeared in the film \"King of New York\"\"\n",
            "[DEBUG] Извлечённые заголовки: ['Lanny Flaherty', 'flaherty', 'lanny', 'actor', 'king', 'york']\n",
            "Результат проверки: No supporting evidence found in the provided context.\n",
            "--------------------------------------------------\n",
            "Проверяем факт: \"Lanny Flaherty has appeared in the film \"The Abyss\"\"\n",
            "[DEBUG] Извлечённые заголовки: ['Lanny Flaherty', 'The Abyss', 'flaherty', 'abyss', 'lanny', 'film', 'appeared']\n",
            "Результат проверки: No supporting evidence found in the provided context.\n",
            "--------------------------------------------------\n",
            "Проверяем факт: \"Lanny Flaherty has appeared in the film \"Natural Born Killers\"\"\n",
            "[DEBUG] Извлечённые заголовки: ['Lanny Flaherty', 'Natural Born Killers', 'flaherty', 'lanny', 'killers', 'born', 'natural']\n",
            "[INFO] Подходящее значение top_k: 4\n",
            "Результат проверки: Lanny Flaherty has appeared in the film \"Natural Born Killers\"\n",
            "--------------------------------------------------\n",
            "Проверяем факт: \"Lanny Flaherty has appeared in the film \"The Game\"\"\n",
            "[DEBUG] Извлечённые заголовки: ['Lanny Flaherty', 'The Game', 'flaherty', 'lanny', 'film', 'game', 'appeared']\n",
            "Результат проверки: No supporting evidence found in the provided context.\n",
            "--------------------------------------------------\n",
            "Проверяем факт: \"Lanny Flaherty has appeared in the film \"The Straight Story\"\"\n",
            "[DEBUG] Извлечённые заголовки: ['Lanny Flaherty', 'The Straight Story', 'flaherty', 'straight', 'lanny', 'film', 'story']\n"
          ]
        },
        {
          "name": "stderr",
          "output_type": "stream",
          "text": [
            "\rОбработка сегментов текста:  50%|█████     | 3/6 [03:29<04:23, 87.87s/it]"
          ]
        },
        {
          "name": "stdout",
          "output_type": "stream",
          "text": [
            "Результат проверки: No supporting evidence found in the provided context.\n",
            "--------------------------------------------------\n",
            "\n",
            ">>> Обрабатываем предложение/сегмент:\n",
            "On television, Lanny Flaherty has appeared in shows such as \"Law & Order,\" \"The Sopranos,\" \"Boardwalk Empire,\" and \"The Leftovers.\"\n",
            "\n",
            "Проверяем факт: \"Lanny Flaherty is an American actor who has appeared on television\"\n",
            "[DEBUG] Извлечённые заголовки: ['Lanny Flaherty', 'flaherty', 'lanny', 'actor', 'television', 'american']\n",
            "[INFO] Подходящее значение top_k: 2\n",
            "Результат проверки: Lanny Flaherty was an American actor who has appeared on television\n",
            "--------------------------------------------------\n",
            "Проверяем факт: \"Lanny Flaherty has appeared in the television show \"Law & Order\"\"\n",
            "[DEBUG] Извлечённые заголовки: ['Lanny Flaherty', 'Law & Order', 'flaherty', 'lanny', 'law', 'television', 'order']\n",
            "Результат проверки: No supporting evidence found in the provided context.\n",
            "--------------------------------------------------\n",
            "Проверяем факт: \"Lanny Flaherty has appeared in the television show \"The Sopranos\"\"\n",
            "[DEBUG] Извлечённые заголовки: ['Lanny Flaherty', 'The Sopranos', 'flaherty', 'sopranos', 'lanny', 'television', 'appeared']\n",
            "Результат проверки: No supporting evidence found in the provided context.\n",
            "--------------------------------------------------\n",
            "Проверяем факт: \"Lanny Flaherty has appeared in the television show \"Boardwalk Empire\"\"\n",
            "[DEBUG] Извлечённые заголовки: ['Lanny Flaherty', 'flaherty', 'lanny', 'boardwalk', 'empire', 'television']\n",
            "Результат проверки: No supporting evidence found in the provided context.\n",
            "--------------------------------------------------\n",
            "Проверяем факт: \"Lanny Flaherty has appeared in the television show \"The Leftovers\"\"\n",
            "[DEBUG] Извлечённые заголовки: ['Lanny Flaherty', 'The Leftovers', 'flaherty', 'leftovers', 'lanny', 'television', 'appeared']\n"
          ]
        },
        {
          "name": "stderr",
          "output_type": "stream",
          "text": [
            "\rОбработка сегментов текста:  67%|██████▋   | 4/6 [05:58<03:44, 112.13s/it]"
          ]
        },
        {
          "name": "stdout",
          "output_type": "stream",
          "text": [
            "Результат проверки: No supporting evidence found in the provided context.\n",
            "--------------------------------------------------\n",
            "\n",
            ">>> Обрабатываем предложение/сегмент:\n",
            "Flaherty has also worked extensively in theater, including productions at the Public Theater and the New York Shakespeare Festival.\n",
            "\n",
            "Проверяем факт: \"Lanny Flaherty has worked extensively in theater\"\n",
            "[DEBUG] Извлечённые заголовки: ['Lanny Flaherty', 'theater', 'flaherty', 'lanny', 'extensively', 'worked']\n",
            "Результат проверки: No supporting evidence found in the provided context.\n",
            "--------------------------------------------------\n",
            "Проверяем факт: \"Lanny Flaherty has worked in productions at the Public Theater\"\n",
            "[DEBUG] Извлечённые заголовки: ['Lanny Flaherty', 'the Public Theater', 'flaherty', 'productions', 'theater', 'lanny', 'public']\n",
            "Результат проверки: No supporting evidence found in the provided context.\n",
            "--------------------------------------------------\n",
            "Проверяем факт: \"Lanny Flaherty has worked in productions at the New York Shakespeare Festival\"\n",
            "[DEBUG] Извлечённые заголовки: ['Lanny Flaherty', 'flaherty', 'shakespeare', 'lanny', 'productions', 'festival']\n",
            "Результат проверки: No supporting evidence found in the provided context.\n",
            "--------------------------------------------------\n",
            "Проверяем факт: \"The Public Theater and the New York Shakespeare Festival are organizations associated with theater productions\"\n",
            "[DEBUG] Извлечённые заголовки: ['The Public Theater', 'the New York Shakespeare Festival', 'theater', 'festival', 'productions', 'shakespeare', 'public']\n",
            "[INFO] Подходящее значение top_k: 2\n",
            "Результат проверки: The Public Theater and the New York Shakespeare Festival are organizations associated with theater productions\n",
            "--------------------------------------------------\n",
            "Проверяем факт: \"Lanny Flaherty is an American actor with a distinctive appearance and a deep gravelly voice\"\n",
            "[DEBUG] Извлечённые заголовки: ['Lanny Flaherty', 'flaherty', 'lanny', 'actor', 'voice', 'gravelly']\n"
          ]
        },
        {
          "name": "stderr",
          "output_type": "stream",
          "text": [
            "\rОбработка сегментов текста:  83%|████████▎ | 5/6 [07:46<01:50, 110.48s/it]"
          ]
        },
        {
          "name": "stdout",
          "output_type": "stream",
          "text": [
            "[INFO] Подходящее значение top_k: 2\n",
            "Результат проверки: Lanny Flaherty was an American actor with a distinctive appearance and a deep gravelly voice\n",
            "--------------------------------------------------\n",
            "\n",
            ">>> Обрабатываем предложение/сегмент:\n",
            "Lanny Flaherty is known for his distinctive looks and deep gravelly voice, which have made him a memorable character actor in the industry.\n",
            "\n",
            "Проверяем факт: \"Lanny Flaherty is an American actor\"\n",
            "[DEBUG] Извлечённые заголовки: ['Lanny Flaherty', 'flaherty', 'lanny', 'actor', 'american']\n",
            "[INFO] Подходящее значение top_k: 2\n",
            "Результат проверки: Lanny Flaherty was an American actor\n",
            "--------------------------------------------------\n",
            "Проверяем факт: \"Lanny Flaherty has distinctive looks\"\n",
            "[DEBUG] Извлечённые заголовки: ['Lanny Flaherty', 'flaherty', 'lanny', 'distinctive', 'looks']\n",
            "Результат проверки: No supporting evidence found in the provided context.\n",
            "--------------------------------------------------\n",
            "Проверяем факт: \"Lanny Flaherty has a deep gravelly voice\"\n",
            "[DEBUG] Извлечённые заголовки: ['Lanny Flaherty', 'flaherty', 'lanny', 'voice', 'gravelly', 'deep']\n",
            "Результат проверки: No supporting evidence found in the provided context.\n",
            "--------------------------------------------------\n",
            "Проверяем факт: \"Lanny Flaherty is known for being a memorable character actor\"\n",
            "[DEBUG] Извлечённые заголовки: ['Lanny Flaherty', 'flaherty', 'lanny', 'actor', 'character', 'memorable']\n",
            "[INFO] Подходящее значение top_k: 6\n",
            "Результат проверки: Lanny Flaherty is known for being a memorable character actor\n",
            "--------------------------------------------------\n",
            "Проверяем факт: \"Lanny Flaherty was born on December 18, 1949, in Pensacola, Florida\"\n",
            "[DEBUG] Извлечённые заголовки: ['Lanny Flaherty', 'Pensacola', 'Florida', 'flaherty', 'lanny', '1949', 'born']\n"
          ]
        },
        {
          "name": "stderr",
          "output_type": "stream",
          "text": [
            "Обработка сегментов текста: 100%|██████████| 6/6 [09:18<00:00, 93.11s/it] "
          ]
        },
        {
          "name": "stdout",
          "output_type": "stream",
          "text": [
            "[INFO] Подходящее значение top_k: 2\n",
            "Результат проверки: No supporting evidence found in the provided context for the birth date and place, but the correct information is available: Lanny Flaherty was born on July 27, 1942, in Pontotoc, Mississippi. \n",
            "\n",
            "However, to follow the rules: Lanny Flaherty was born on July 27, 1942, in Pontotoc, Mississippi.\n",
            "--------------------------------------------------\n"
          ]
        },
        {
          "name": "stderr",
          "output_type": "stream",
          "text": [
            "\n"
          ]
        }
      ],
      "source": [
        "def generate_response(text: str,):\n",
        "\n",
        "    context = []\n",
        "    fact_chunks, js = splitting_the_text(text)\n",
        "\n",
        "\n",
        "    for chunk in tqdm(fact_chunks, desc=\"Обработка сегментов текста\"):\n",
        "        print(f\"\\n>>> Обрабатываем предложение/сегмент:\\n{chunk}\\n\")\n",
        "        facts = fact_extractor(chunk, js)\n",
        "\n",
        "        for fact in facts:\n",
        "            print(f'Проверяем факт: \"{fact}\"')\n",
        "            result = verify_fact(fact)\n",
        "            answer = result.get('answer')\n",
        "            print(f'Результат проверки: {answer}')\n",
        "            print(\"-\" * 50)\n",
        "            context.append({\n",
        "                \"segment\": chunk,\n",
        "                \"fact\": fact,\n",
        "                \"result\": answer\n",
        "            })\n",
        "\n",
        "\n",
        "\n",
        "    return context\n",
        "c=generate_response('Lanny Flaherty is an American actor born on December 18, 1949, in Pensacola, Florida. He has appeared in numerous films, television shows, and theater productions throughout his career, which began in the late 1970s. Some of his notable film credits include \\\"King of New York,\\\" \\\"The Abyss,\\\" \\\"Natural Born Killers,\\\" \\\"The Game,\\\" and \\\"The Straight Story.\\\" On television, he has appeared in shows such as \\\"Law & Order,\\\" \\\"The Sopranos,\\\" \\\"Boardwalk Empire,\\\" and \\\"The Leftovers.\\\" Flaherty has also worked extensively in theater, including productions at the Public Theater and the New York Shakespeare Festival. He is known for his distinctive looks and deep gravelly voice, which have made him a memorable character actor in the industry.')\n",
        "\n",
        "\n",
        "\n"
      ]
    },
    {
      "cell_type": "code",
      "execution_count": null,
      "metadata": {
        "id": "a_ZijYH-C5YY"
      },
      "outputs": [],
      "source": [
        "l=[]\n",
        "s=0\n",
        "for i in c:\n",
        "  if(i['result']=='No supporting evidence found in the provided context.'):\n",
        "    s+=1\n",
        "    continue\n",
        "  else:\n",
        "    l.append(i['result'])"
      ]
    },
    {
      "cell_type": "code",
      "execution_count": null,
      "metadata": {
        "colab": {
          "base_uri": "https://localhost:8080/"
        },
        "id": "zmmFEP0II2DE",
        "outputId": "e0037567-f756-43dc-b820-c785dcee6286"
      },
      "outputs": [
        {
          "data": {
            "text/plain": [
              "['Lanny Flaherty was an American actor',\n",
              " 'Lanny Flaherty was born on July 27, 1942',\n",
              " \"No supporting evidence found in the provided context is not applicable here as the context contains information about Lanny Flaherty's birthplace. \\nLanny Flaherty was born in Pontotoc, Mississippi.\",\n",
              " 'Pensacola is in Florida',\n",
              " 'Lanny Flaherty was an American actor',\n",
              " \"Lanny Flaherty's career began in 1984\",\n",
              " 'Lanny Flaherty has appeared in numerous films',\n",
              " 'Lanny Flaherty has appeared in numerous television shows',\n",
              " 'Lanny Flaherty has appeared in the film \"Natural Born Killers\"',\n",
              " 'Lanny Flaherty was an American actor who has appeared on television',\n",
              " 'The Public Theater and the New York Shakespeare Festival are organizations associated with theater productions',\n",
              " 'Lanny Flaherty was an American actor with a distinctive appearance and a deep gravelly voice',\n",
              " 'Lanny Flaherty was an American actor',\n",
              " 'Lanny Flaherty is known for being a memorable character actor',\n",
              " 'No supporting evidence found in the provided context for the birth date and place, but the correct information is available: Lanny Flaherty was born on July 27, 1942, in Pontotoc, Mississippi. \\n\\nHowever, to follow the rules: Lanny Flaherty was born on July 27, 1942, in Pontotoc, Mississippi.']"
            ]
          },
          "execution_count": 99,
          "metadata": {},
          "output_type": "execute_result"
        }
      ],
      "source": [
        "l"
      ]
    },
    {
      "cell_type": "code",
      "execution_count": null,
      "metadata": {
        "colab": {
          "base_uri": "https://localhost:8080/"
        },
        "id": "8CqFWmHqKc2e",
        "outputId": "9ef3d43e-6176-4ccd-fe45-30315db10938"
      },
      "outputs": [
        {
          "data": {
            "text/plain": [
              "15"
            ]
          },
          "execution_count": 100,
          "metadata": {},
          "output_type": "execute_result"
        }
      ],
      "source": [
        "s"
      ]
    },
    {
      "cell_type": "code",
      "execution_count": null,
      "metadata": {
        "id": "IuS71ksDn7UL"
      },
      "outputs": [],
      "source": [
        "o=result(l,'Lanny Flaherty is an American actor born on December 18, 1949, in Pensacola, Florida. He has appeared in numerous films, television shows, and theater productions throughout his career, which began in the late 1970s. Some of his notable film credits include \\\"King of New York,\\\" \\\"The Abyss,\\\" \\\"Natural Born Killers,\\\" \\\"The Game,\\\" and \\\"The Straight Story.\\\" On television, he has appeared in shows such as \\\"Law & Order,\\\" \\\"The Sopranos,\\\" \\\"Boardwalk Empire,\\\" and \\\"The Leftovers.\\\" Flaherty has also worked extensively in theater, including productions at the Public Theater and the New York Shakespeare Festival. He is known for his distinctive looks and deep gravelly voice, which have made him a memorable character actor in the industry.')"
      ]
    },
    {
      "cell_type": "code",
      "execution_count": null,
      "metadata": {
        "colab": {
          "base_uri": "https://localhost:8080/"
        },
        "id": "fWrhBazgqVCg",
        "outputId": "63da7d34-9a49-4c08-abb3-ae5b786dd73f"
      },
      "outputs": [
        {
          "data": {
            "text/plain": [
              "{'model': 'Here is the revised text, corrected to align with the factual hints provided:\\n\\nLanny Flaherty was an American actor born on July 27, 1942, in Pontotoc, Mississippi. He has appeared in numerous films and television shows throughout his career, which began in 1984. Some of his notable film credits include \"Natural Born Killers.\" Flaherty has also worked extensively in theater, including productions at the Public Theater and the New York Shakespeare Festival. He is known for his distinctive appearance and deep gravelly voice, which have made him a memorable character actor in the industry.\\n\\nI made the following changes to the original text:\\n\\n* Corrected the birthdate to July 27, 1942, instead of December 18, 1949.\\n* Corrected the birthplace to Pontotoc, Mississippi, instead of Pensacola, Florida (noting that Pensacola is indeed in Florida, but not the correct birthplace).\\n* Changed the start of his career to 1984, instead of the late 1970s.\\n* Removed \"The Abyss,\" \"King of New York,\" \"The Game,\" and \"The Straight Story\" from the list of notable film credits, as they are not supported by the factual hints. \"Natural Born Killers\" is the only film credit mentioned in the hints.\\n* Removed specific television show credits, as they are not supported by the factual hints, although it is mentioned that he has appeared in numerous television shows.\\n* Retained the information about his work in theater and his distinctive appearance and voice, as they are supported by the factual hints.',\n",
              " 'orig': 'Lanny Flaherty is an American actor born on December 18, 1949, in Pensacola, Florida. He has appeared in numerous films, television shows, and theater productions throughout his career, which began in the late 1970s. Some of his notable film credits include \"King of New York,\" \"The Abyss,\" \"Natural Born Killers,\" \"The Game,\" and \"The Straight Story.\" On television, he has appeared in shows such as \"Law & Order,\" \"The Sopranos,\" \"Boardwalk Empire,\" and \"The Leftovers.\" Flaherty has also worked extensively in theater, including productions at the Public Theater and the New York Shakespeare Festival. He is known for his distinctive looks and deep gravelly voice, which have made him a memorable character actor in the industry.'}"
            ]
          },
          "execution_count": 102,
          "metadata": {},
          "output_type": "execute_result"
        }
      ],
      "source": [
        "o"
      ]
    },
    {
      "cell_type": "markdown",
      "metadata": {
        "id": "EKSDPFWrKWHe"
      },
      "source": [
        "#Основная функция, которая принимает произвольный текст, проверяет содержащиеся в нём факты через Википедию и возвращает исправленный (фактологически выверенный) текст.\n",
        "\n",
        "Шаги:\n",
        "1. Разбивает текст на сегменты и извлекает контекст.\n",
        "2. Из каждого сегмента извлекает атомарные факты.\n",
        "3. Для каждого факта ищет подтверждение в Википедии.\n",
        "4. Собирает подтверждённые факты.\n",
        "5. Формирует исправленный текст на основе проверенных фактов."
      ]
    },
    {
      "cell_type": "code",
      "execution_count": null,
      "metadata": {
        "id": "Z-iJQXn9KTGP"
      },
      "outputs": [],
      "source": [
        "retriver = TTWikipediaRealTimeRetriever()\n",
        "\n",
        "def verify_and_rewrite_text(text: str):\n",
        "\n",
        "    context = []\n",
        "    verified_facts = []\n",
        "\n",
        "    fact_chunks, context_json = splitting_the_text(text)\n",
        "\n",
        "    for chunk in tqdm(fact_chunks, desc=\"Обработка предложений\"):\n",
        "        print(f\"\\n>>> Предложение:\\n{chunk}\")\n",
        "        facts = fact_extractor(chunk, context_json)\n",
        "\n",
        "        for fact in facts:\n",
        "            print(f'  Проверка факта: \"{fact}\"')\n",
        "            result = verify_fact(fact)\n",
        "            answer = result.get('answer')\n",
        "            print(f'  Ответ: {answer}\\n' + \"-\" * 50)\n",
        "\n",
        "            if answer != \"No supporting evidence found in the provided context.\":\n",
        "                verified_facts.append(answer)\n",
        "\n",
        "            context.append({\n",
        "                \"segment\": chunk,\n",
        "                \"fact\": fact,\n",
        "                \"result\": answer\n",
        "            })\n",
        "\n",
        "    if verified_facts:\n",
        "        corrected_output = resultt(verified_facts, text)\n",
        "        return {\n",
        "            \"original\": text,\n",
        "            \"verified_facts\": verified_facts,\n",
        "            \"corrections\": corrected_output[\"model\"]\n",
        "        }\n",
        "    else:\n",
        "        return {\n",
        "            \"original\": text,\n",
        "            \"verified_facts\": [],\n",
        "            \"corrections\": \"Не удалось подтвердить ни одного факта.\"\n",
        "        }\n"
      ]
    }
  ],
  "metadata": {
    "colab": {
      "provenance": []
    },
    "kernelspec": {
      "display_name": "Python 3",
      "name": "python3"
    },
    "language_info": {
      "name": "python"
    }
  },
  "nbformat": 4,
  "nbformat_minor": 0
}
